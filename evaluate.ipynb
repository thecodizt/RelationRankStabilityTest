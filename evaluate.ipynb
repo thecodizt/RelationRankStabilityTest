{
 "cells": [
  {
   "cell_type": "code",
   "execution_count": null,
   "metadata": {},
   "outputs": [],
   "source": [
    "BASE_PROMPT = '''\n",
    "IN CONTEXT: International trade involves complex producer-consumer relationships between countries. Various goods and materials flow across borders.\n",
    "\n",
    "TASK: I am tasked with estimating the likelihood of a producer-consumer relationship between two given countries in terms of semiconductors.\n",
    "\n",
    "INSTRUCTIONS:\n",
    "\n",
    "Input: I will receive two countries (e.g., China, United States) as input.\n",
    "Process: Analyze the countries and their known roles in the global semiconductor industry. Consider factors like:\n",
    "Specialization: Is one country known for producing raw materials (e.g., rare earth metals) or finished semiconductor products (e.g., integrated circuits)?\n",
    "Trade Patterns: Are there established trade routes for semiconductor-related goods between these countries?\n",
    "Prioritize Speed: While maintaining some accuracy is important, prioritize providing a quick, approximate score.\n",
    "\n",
    "Output: Generate a score between 0 and 1, where:\n",
    "\n",
    "0 indicates no producer-consumer relationship is likely.\n",
    "1 indicates a high likelihood of a well-established producer-consumer relationship.\n",
    "No Reasoning Required:  This task does not require justification or detailed explanation. Focus solely on generating the score.\n",
    "\n",
    "Example:\n",
    "\n",
    "Input: Country 1: South Korea | Country 2: Vietnam\n",
    "\n",
    "Output: 0.7 (This is an approximate score without reasoning.)\n",
    "\n",
    "Additional Considerations:\n",
    "\n",
    "You can access and process external knowledge sources if readily available (but prioritize speed).\n",
    "Remember: The goal is to quickly estimate the likelihood of a producer-consumer relationship for semiconductors based on the provided countries and your understanding of global trade patterns.\n",
    "'''"
   ]
  },
  {
   "cell_type": "code",
   "execution_count": null,
   "metadata": {},
   "outputs": [],
   "source": [
    "import pandas as pd\n",
    "import ollama\n",
    "\n",
    "from evaluate import evaulate_model_with_temp_and_epoch_on_dataset"
   ]
  },
  {
   "cell_type": "code",
   "execution_count": null,
   "metadata": {},
   "outputs": [],
   "source": [
    "data = pd.read_csv('./Datasets/countries.csv')\n",
    "data.name = \"Countries\"\n",
    "data"
   ]
  },
  {
   "cell_type": "code",
   "execution_count": null,
   "metadata": {},
   "outputs": [],
   "source": [
    "model = 'phi'\n",
    "temperature = 0.5\n",
    "epoch = 0"
   ]
  },
  {
   "cell_type": "code",
   "execution_count": null,
   "metadata": {},
   "outputs": [],
   "source": [
    "models = [model[\"name\"] for model in ollama.list()[\"models\"]]\n",
    "\n",
    "print(models)\n",
    "\n",
    "if f'{model}_t_{temperature}' in models:\n",
    "    ollama.delete(f'{model}_t_{temperature}:latest')\n",
    "\n",
    "print(models)"
   ]
  },
  {
   "cell_type": "code",
   "execution_count": null,
   "metadata": {},
   "outputs": [],
   "source": [
    "if f'{model}_t_{temperature}:latest' not in models:\n",
    "    modelfile = f\"FROM {model}\\nPARAMETER temperature {temperature}\\nSYSTEM {BASE_PROMPT}\"\n",
    "\n",
    "    ollama.create(model=f'{model}_t_{temperature}:latest', modelfile=modelfile)\n",
    "\n",
    "models = [model[\"name\"] for model in ollama.list()[\"models\"]]\n",
    "\n",
    "print(models)"
   ]
  },
  {
   "cell_type": "code",
   "execution_count": 7,
   "metadata": {},
   "outputs": [],
   "source": [
    "evaulate_model_with_temp_and_epoch_on_dataset(dataset=data, model=model, temperature=temperature, epoch=epoch)"
   ]
  }
 ],
 "metadata": {
  "kernelspec": {
   "display_name": "venv",
   "language": "python",
   "name": "python3"
  },
  "language_info": {
   "codemirror_mode": {
    "name": "ipython",
    "version": 3
   },
   "file_extension": ".py",
   "mimetype": "text/x-python",
   "name": "python",
   "nbconvert_exporter": "python",
   "pygments_lexer": "ipython3",
   "version": "3.12.0"
  }
 },
 "nbformat": 4,
 "nbformat_minor": 2
}

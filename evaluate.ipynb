{
 "cells": [
  {
   "cell_type": "code",
   "execution_count": null,
   "metadata": {},
   "outputs": [],
   "source": [
    "BASE_PROMPT = \"TASK: You are tasked with estimating the likelihood of a producer-consumer relationship between two given countries in terms of semiconductors. Input: I will receive two countries (e.g., China, United States) as input. Process: Analyze the countries and their known roles in the global semiconductor industry. Output: Generate a score between 0 and 1, where: 0 indicates no producer-consumer relationship is likely. 1 indicates a high likelihood of a well-established producer-consumer relationship. No Reasoning Required: This task does not require justification or explanation. Focus solely on generating the score. Example: Input: Country: South Korea Country: Vietnam Output: 0.7 Remember: The goal is to quickly estimate the likelihood of a producer-consumer relationship for semiconductors based on the provided countries and your understanding of global trade patterns.\""
   ]
  },
  {
   "cell_type": "code",
   "execution_count": null,
   "metadata": {},
   "outputs": [],
   "source": [
    "DATASET = \"./Datasets/countries.csv\"\n",
    "DATASET_NAME = \"Countries\""
   ]
  },
  {
   "cell_type": "code",
   "execution_count": null,
   "metadata": {},
   "outputs": [],
   "source": [
    "EPOCHS = 5\n",
    "TEMPERATURES = [0, 0.25, 0.5, 0.75, 1]"
   ]
  },
  {
   "cell_type": "code",
   "execution_count": null,
   "metadata": {},
   "outputs": [],
   "source": [
    "import pandas as pd\n",
    "import ollama\n",
    "\n",
    "from evaluate import evaulate_model_with_temp_and_epoch_on_dataset"
   ]
  },
  {
   "cell_type": "code",
   "execution_count": null,
   "metadata": {},
   "outputs": [],
   "source": [
    "models = [model[\"name\"] for model in ollama.list()[\"models\"]]\n",
    "\n",
    "print(models)"
   ]
  },
  {
   "cell_type": "code",
   "execution_count": null,
   "metadata": {},
   "outputs": [],
   "source": [
    "data = pd.read_csv('./Datasets/countries.csv')\n",
    "data.name = \"Countries\"\n",
    "data"
   ]
  },
  {
   "cell_type": "code",
   "execution_count": null,
   "metadata": {},
   "outputs": [],
   "source": [
    "# models = [model[\"name\"] for model in ollama.list()[\"models\"]]\n",
    "\n",
    "# print(models)\n",
    "\n",
    "# if f'{model}_t_{temperature}' in models:\n",
    "#     ollama.delete(f'{model}_t_{temperature}:latest')\n",
    "\n",
    "# print(models)"
   ]
  },
  {
   "cell_type": "code",
   "execution_count": null,
   "metadata": {},
   "outputs": [],
   "source": [
    "MODEL = 'mistral'\n",
    "\n",
    "for temperature in TEMPERATURES:\n",
    "    # if f'{MODEL}_t_{temperature}:latest' not in models:\n",
    "    modelfile = f\"FROM {MODEL}\\nPARAMETER temperature {temperature}\\nSYSTEM {BASE_PROMPT}\"\n",
    "\n",
    "    print(modelfile)\n",
    "\n",
    "    ollama.create(model=f'{MODEL}_Temp_{temperature}:latest', modelfile=modelfile)\n",
    "\n",
    "for epoch in range(EPOCHS):\n",
    "    for temperature in TEMPERATURES:\n",
    "        evaulate_model_with_temp_and_epoch_on_dataset(dataset=data, model=MODEL, temperature=temperature, epoch=epoch)"
   ]
  },
  {
   "cell_type": "code",
   "execution_count": null,
   "metadata": {},
   "outputs": [],
   "source": [
    "MODEL = 'phi'\n",
    "\n",
    "for temperature in TEMPERATURES:\n",
    "    # if f'{MODEL}_t_{temperature}:latest' not in models:\n",
    "    modelfile = f\"FROM {MODEL}\\nPARAMETER temperature {temperature}\\nSYSTEM {BASE_PROMPT}\"\n",
    "\n",
    "    ollama.create(model=f'{MODEL}_Temp_{temperature}:latest', modelfile=modelfile)\n",
    "\n",
    "for epoch in range(EPOCHS):\n",
    "    for temperature in TEMPERATURES:\n",
    "        evaulate_model_with_temp_and_epoch_on_dataset(dataset=data, model=MODEL, temperature=temperature, epoch=epoch)"
   ]
  },
  {
   "cell_type": "code",
   "execution_count": null,
   "metadata": {},
   "outputs": [],
   "source": [
    "MODEL = 'llama2'\n",
    "\n",
    "for temperature in TEMPERATURES:\n",
    "    # if f'{MODEL}_t_{temperature}:latest' not in models:\n",
    "    modelfile = f\"FROM {MODEL}\\nPARAMETER temperature {temperature}\\nSYSTEM {BASE_PROMPT}\"\n",
    "\n",
    "    ollama.create(model=f'{MODEL}_Temp_{temperature}:latest', modelfile=modelfile)\n",
    "\n",
    "for epoch in range(EPOCHS):\n",
    "    for temperature in TEMPERATURES:\n",
    "        evaulate_model_with_temp_and_epoch_on_dataset(dataset=data, model=MODEL, temperature=temperature, epoch=epoch)"
   ]
  },
  {
   "cell_type": "code",
   "execution_count": null,
   "metadata": {},
   "outputs": [],
   "source": [
    "MODEL = 'zephyr'\n",
    "\n",
    "for temperature in TEMPERATURES:\n",
    "    # if f'{MODEL}_t_{temperature}:latest' not in models:\n",
    "    modelfile = f\"FROM {MODEL}\\nPARAMETER temperature {temperature}\\nSYSTEM {BASE_PROMPT}\"\n",
    "\n",
    "    ollama.create(model=f'{MODEL}_Temp_{temperature}:latest', modelfile=modelfile)\n",
    "\n",
    "for epoch in range(EPOCHS):\n",
    "    for temperature in TEMPERATURES:\n",
    "        evaulate_model_with_temp_and_epoch_on_dataset(dataset=data, model=MODEL, temperature=temperature, epoch=epoch)"
   ]
  },
  {
   "cell_type": "code",
   "execution_count": null,
   "metadata": {},
   "outputs": [],
   "source": [
    "MODEL = 'vicuna'\n",
    "\n",
    "for temperature in TEMPERATURES:\n",
    "    # if f'{MODEL}_t_{temperature}:latest' not in models:\n",
    "    modelfile = f\"FROM {MODEL}\\nPARAMETER temperature {temperature}\\nSYSTEM {BASE_PROMPT}\"\n",
    "\n",
    "    ollama.create(model=f'{MODEL}_Temp_{temperature}:latest', modelfile=modelfile)\n",
    "\n",
    "for epoch in range(EPOCHS):\n",
    "    for temperature in TEMPERATURES:\n",
    "        evaulate_model_with_temp_and_epoch_on_dataset(dataset=data, model=MODEL, temperature=temperature, epoch=epoch)"
   ]
  }
 ],
 "metadata": {
  "kernelspec": {
   "display_name": "venv",
   "language": "python",
   "name": "python3"
  },
  "language_info": {
   "codemirror_mode": {
    "name": "ipython",
    "version": 3
   },
   "file_extension": ".py",
   "mimetype": "text/x-python",
   "name": "python",
   "nbconvert_exporter": "python",
   "pygments_lexer": "ipython3",
   "version": "3.12.0"
  }
 },
 "nbformat": 4,
 "nbformat_minor": 2
}
